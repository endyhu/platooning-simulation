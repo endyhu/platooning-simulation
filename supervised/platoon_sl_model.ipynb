{
 "cells": [
  {
   "cell_type": "code",
   "execution_count": 168,
   "metadata": {},
   "outputs": [],
   "source": [
    "import numpy as np\n",
    "import pandas as pd\n",
    "import matplotlib.pyplot as plt"
   ]
  },
  {
   "cell_type": "code",
   "execution_count": 201,
   "metadata": {},
   "outputs": [],
   "source": [
    "sensor_data = np.load('data/sensor_data.npy') # car sensors\n",
    "input_keys = pd.read_json('data/input_keys.json') # physical input\n",
    "car_data = np.load('data/car_data.npy') # Steering(l=-1, f=0, r=1), velocity, velocity_x, velocity_y"
   ]
  },
  {
   "cell_type": "code",
   "execution_count": 202,
   "metadata": {},
   "outputs": [
    {
     "name": "stdout",
     "output_type": "stream",
     "text": [
      "9013 9012 9012\n"
     ]
    }
   ],
   "source": [
    "print(len(sensor_data), len(input_keys), len(car_data))"
   ]
  },
  {
   "cell_type": "code",
   "execution_count": 203,
   "metadata": {},
   "outputs": [],
   "source": [
    "car_data = pd.DataFrame(car_data, columns=['steer', 'velocity', 'velocity_x', 'velocity_y'])"
   ]
  },
  {
   "cell_type": "code",
   "execution_count": 172,
   "metadata": {},
   "outputs": [],
   "source": [
    "car_data['steer'] = abs((car_data['steer'] - 1)/(1 -(-1)))\n",
    "car_data['velocity'] = (car_data['velocity'] - 0)/(40 -(-0))\n",
    "car_data['velocity_x'] = abs((car_data['velocity_x'] - (-40))/(40 -(-40)))\n",
    "car_data['velocity_y'] = abs((car_data['velocity_y'] - (-40))/(40 -(-40)))"
   ]
  },
  {
   "cell_type": "code",
   "execution_count": 204,
   "metadata": {},
   "outputs": [],
   "source": [
    "input_keys = pd.DataFrame(input_keys)"
   ]
  },
  {
   "cell_type": "code",
   "execution_count": 205,
   "metadata": {},
   "outputs": [],
   "source": [
    "# input_keys = input_keys.drop(columns=112) # remove record button\n",
    "input_keys = input_keys.fillna(0)\n",
    "input_keys = input_keys.rename(columns={119:'W',97:'A',100:'D'})"
   ]
  },
  {
   "cell_type": "code",
   "execution_count": 206,
   "metadata": {},
   "outputs": [],
   "source": [
    "# color_map:\n",
    "# road: (0, 0, 0)\n",
    "# line: (254, 254, 254)\n",
    "# grass: (0, 188, 0)\n",
    "\n",
    "# steer:-1(L)  0(F)  1(R)"
   ]
  },
  {
   "cell_type": "code",
   "execution_count": 207,
   "metadata": {},
   "outputs": [],
   "source": [
    "mapped_data = np.zeros(shape=len(sensor_data), dtype='uint8')"
   ]
  },
  {
   "cell_type": "code",
   "execution_count": 208,
   "metadata": {},
   "outputs": [],
   "source": [
    "# map pixel to class (r-r     r-l.    r-g.     l-r.     g-r)  \n",
    "for k,i in enumerate(sensor_data):\n",
    "    if np.array_equal(i,[[0,0,0],[0,0,0]]):\n",
    "        mapped_data[k] = 1\n",
    "    elif np.array_equal(i,[[0,0,0],[254, 254, 254]]) or np.array_equal(i,[[0,0,0],[255,255,255]]) or np.array_equal(i,[[0,0,0],[254,255,254]]):\n",
    "        mapped_data[k] = 2\n",
    "    elif np.array_equal(i,[[0,0,0],[0, 188, 0]]):\n",
    "        mapped_data[k] = 3\n",
    "    elif np.array_equal(i,[[254, 254, 254],[0, 0, 0]]) or np.array_equal(i,[[255,255,255],[0,0,0]]) or np.array_equal(i,[[254,255,254],[0,0,0]]):\n",
    "        mapped_data[k] = 4\n",
    "    elif np.array_equal(i,[[0, 188, 0],[0, 0, 0]]):\n",
    "        mapped_data[k] = 5"
   ]
  },
  {
   "cell_type": "code",
   "execution_count": 209,
   "metadata": {},
   "outputs": [
    {
     "data": {
      "text/plain": [
       "array([1, 2, 3, 4, 5], dtype=uint8)"
      ]
     },
     "execution_count": 209,
     "metadata": {},
     "output_type": "execute_result"
    }
   ],
   "source": [
    "np.unique(mapped_data)"
   ]
  },
  {
   "cell_type": "code",
   "execution_count": 210,
   "metadata": {},
   "outputs": [],
   "source": [
    "sensors = pd.DataFrame(columns=['RR','RL','RG','LR','GR'])"
   ]
  },
  {
   "cell_type": "code",
   "execution_count": 211,
   "metadata": {},
   "outputs": [],
   "source": [
    "for k,d in enumerate(mapped_data):\n",
    "    if d == 1:\n",
    "        sensors.at[k,'RR'] = 1\n",
    "    elif d == 2:\n",
    "        sensors.at[k,'RL'] = 1\n",
    "    elif d == 3:\n",
    "        sensors.at[k,'RG'] = 1\n",
    "    elif d == 4:\n",
    "        sensors.at[k,'LR'] = 1\n",
    "    elif d == 5:\n",
    "        sensors.at[k,'GR'] = 1"
   ]
  },
  {
   "cell_type": "code",
   "execution_count": 212,
   "metadata": {},
   "outputs": [],
   "source": [
    "sensors = sensors.fillna(0)\n",
    "sensors = sensors[:-1]"
   ]
  },
  {
   "cell_type": "code",
   "execution_count": 213,
   "metadata": {},
   "outputs": [
    {
     "data": {
      "text/html": [
       "<div>\n",
       "<style scoped>\n",
       "    .dataframe tbody tr th:only-of-type {\n",
       "        vertical-align: middle;\n",
       "    }\n",
       "\n",
       "    .dataframe tbody tr th {\n",
       "        vertical-align: top;\n",
       "    }\n",
       "\n",
       "    .dataframe thead th {\n",
       "        text-align: right;\n",
       "    }\n",
       "</style>\n",
       "<table border=\"1\" class=\"dataframe\">\n",
       "  <thead>\n",
       "    <tr style=\"text-align: right;\">\n",
       "      <th></th>\n",
       "      <th>RR</th>\n",
       "      <th>RL</th>\n",
       "      <th>RG</th>\n",
       "      <th>LR</th>\n",
       "      <th>GR</th>\n",
       "    </tr>\n",
       "  </thead>\n",
       "  <tbody>\n",
       "    <tr>\n",
       "      <td>0</td>\n",
       "      <td>1</td>\n",
       "      <td>0</td>\n",
       "      <td>0</td>\n",
       "      <td>0</td>\n",
       "      <td>0</td>\n",
       "    </tr>\n",
       "    <tr>\n",
       "      <td>1</td>\n",
       "      <td>1</td>\n",
       "      <td>0</td>\n",
       "      <td>0</td>\n",
       "      <td>0</td>\n",
       "      <td>0</td>\n",
       "    </tr>\n",
       "    <tr>\n",
       "      <td>2</td>\n",
       "      <td>1</td>\n",
       "      <td>0</td>\n",
       "      <td>0</td>\n",
       "      <td>0</td>\n",
       "      <td>0</td>\n",
       "    </tr>\n",
       "    <tr>\n",
       "      <td>3</td>\n",
       "      <td>1</td>\n",
       "      <td>0</td>\n",
       "      <td>0</td>\n",
       "      <td>0</td>\n",
       "      <td>0</td>\n",
       "    </tr>\n",
       "    <tr>\n",
       "      <td>4</td>\n",
       "      <td>1</td>\n",
       "      <td>0</td>\n",
       "      <td>0</td>\n",
       "      <td>0</td>\n",
       "      <td>0</td>\n",
       "    </tr>\n",
       "  </tbody>\n",
       "</table>\n",
       "</div>"
      ],
      "text/plain": [
       "   RR  RL  RG  LR  GR\n",
       "0   1   0   0   0   0\n",
       "1   1   0   0   0   0\n",
       "2   1   0   0   0   0\n",
       "3   1   0   0   0   0\n",
       "4   1   0   0   0   0"
      ]
     },
     "execution_count": 213,
     "metadata": {},
     "output_type": "execute_result"
    }
   ],
   "source": [
    "sensors.head()"
   ]
  },
  {
   "cell_type": "code",
   "execution_count": 214,
   "metadata": {},
   "outputs": [
    {
     "data": {
      "text/plain": [
       "9012"
      ]
     },
     "execution_count": 214,
     "metadata": {},
     "output_type": "execute_result"
    }
   ],
   "source": [
    "len(sensors)"
   ]
  },
  {
   "cell_type": "code",
   "execution_count": 215,
   "metadata": {},
   "outputs": [],
   "source": [
    "frames = [sensors, car_data]"
   ]
  },
  {
   "cell_type": "code",
   "execution_count": 216,
   "metadata": {},
   "outputs": [],
   "source": [
    "X = pd.concat(frames, axis=1)"
   ]
  },
  {
   "cell_type": "code",
   "execution_count": 217,
   "metadata": {},
   "outputs": [
    {
     "data": {
      "text/html": [
       "<div>\n",
       "<style scoped>\n",
       "    .dataframe tbody tr th:only-of-type {\n",
       "        vertical-align: middle;\n",
       "    }\n",
       "\n",
       "    .dataframe tbody tr th {\n",
       "        vertical-align: top;\n",
       "    }\n",
       "\n",
       "    .dataframe thead th {\n",
       "        text-align: right;\n",
       "    }\n",
       "</style>\n",
       "<table border=\"1\" class=\"dataframe\">\n",
       "  <thead>\n",
       "    <tr style=\"text-align: right;\">\n",
       "      <th></th>\n",
       "      <th>RR</th>\n",
       "      <th>RL</th>\n",
       "      <th>RG</th>\n",
       "      <th>LR</th>\n",
       "      <th>GR</th>\n",
       "      <th>steer</th>\n",
       "      <th>velocity</th>\n",
       "      <th>velocity_x</th>\n",
       "      <th>velocity_y</th>\n",
       "    </tr>\n",
       "  </thead>\n",
       "  <tbody>\n",
       "    <tr>\n",
       "      <td>0</td>\n",
       "      <td>1</td>\n",
       "      <td>0</td>\n",
       "      <td>0</td>\n",
       "      <td>0</td>\n",
       "      <td>0</td>\n",
       "      <td>0.0</td>\n",
       "      <td>0.0</td>\n",
       "      <td>0.000000</td>\n",
       "      <td>-0.000000</td>\n",
       "    </tr>\n",
       "    <tr>\n",
       "      <td>1</td>\n",
       "      <td>1</td>\n",
       "      <td>0</td>\n",
       "      <td>0</td>\n",
       "      <td>0</td>\n",
       "      <td>0</td>\n",
       "      <td>0.0</td>\n",
       "      <td>0.0</td>\n",
       "      <td>0.000000</td>\n",
       "      <td>-0.000000</td>\n",
       "    </tr>\n",
       "    <tr>\n",
       "      <td>2</td>\n",
       "      <td>1</td>\n",
       "      <td>0</td>\n",
       "      <td>0</td>\n",
       "      <td>0</td>\n",
       "      <td>0</td>\n",
       "      <td>0.0</td>\n",
       "      <td>0.0</td>\n",
       "      <td>0.000000</td>\n",
       "      <td>-0.000000</td>\n",
       "    </tr>\n",
       "    <tr>\n",
       "      <td>3</td>\n",
       "      <td>1</td>\n",
       "      <td>0</td>\n",
       "      <td>0</td>\n",
       "      <td>0</td>\n",
       "      <td>0</td>\n",
       "      <td>0.0</td>\n",
       "      <td>0.0</td>\n",
       "      <td>0.000000</td>\n",
       "      <td>-0.000000</td>\n",
       "    </tr>\n",
       "    <tr>\n",
       "      <td>4</td>\n",
       "      <td>1</td>\n",
       "      <td>0</td>\n",
       "      <td>0</td>\n",
       "      <td>0</td>\n",
       "      <td>0</td>\n",
       "      <td>0.0</td>\n",
       "      <td>0.0</td>\n",
       "      <td>0.000000</td>\n",
       "      <td>-0.000000</td>\n",
       "    </tr>\n",
       "    <tr>\n",
       "      <td>...</td>\n",
       "      <td>...</td>\n",
       "      <td>...</td>\n",
       "      <td>...</td>\n",
       "      <td>...</td>\n",
       "      <td>...</td>\n",
       "      <td>...</td>\n",
       "      <td>...</td>\n",
       "      <td>...</td>\n",
       "      <td>...</td>\n",
       "    </tr>\n",
       "    <tr>\n",
       "      <td>1495</td>\n",
       "      <td>0</td>\n",
       "      <td>0</td>\n",
       "      <td>0</td>\n",
       "      <td>1</td>\n",
       "      <td>0</td>\n",
       "      <td>0.0</td>\n",
       "      <td>40.0</td>\n",
       "      <td>25.253219</td>\n",
       "      <td>-31.020557</td>\n",
       "    </tr>\n",
       "    <tr>\n",
       "      <td>1496</td>\n",
       "      <td>0</td>\n",
       "      <td>0</td>\n",
       "      <td>0</td>\n",
       "      <td>1</td>\n",
       "      <td>0</td>\n",
       "      <td>0.0</td>\n",
       "      <td>40.0</td>\n",
       "      <td>25.253219</td>\n",
       "      <td>-31.020557</td>\n",
       "    </tr>\n",
       "    <tr>\n",
       "      <td>1497</td>\n",
       "      <td>0</td>\n",
       "      <td>0</td>\n",
       "      <td>0</td>\n",
       "      <td>1</td>\n",
       "      <td>0</td>\n",
       "      <td>0.0</td>\n",
       "      <td>40.0</td>\n",
       "      <td>25.253219</td>\n",
       "      <td>-31.020557</td>\n",
       "    </tr>\n",
       "    <tr>\n",
       "      <td>1498</td>\n",
       "      <td>0</td>\n",
       "      <td>0</td>\n",
       "      <td>0</td>\n",
       "      <td>1</td>\n",
       "      <td>0</td>\n",
       "      <td>0.0</td>\n",
       "      <td>40.0</td>\n",
       "      <td>25.253219</td>\n",
       "      <td>-31.020557</td>\n",
       "    </tr>\n",
       "    <tr>\n",
       "      <td>1499</td>\n",
       "      <td>0</td>\n",
       "      <td>0</td>\n",
       "      <td>0</td>\n",
       "      <td>1</td>\n",
       "      <td>0</td>\n",
       "      <td>0.0</td>\n",
       "      <td>40.0</td>\n",
       "      <td>25.253219</td>\n",
       "      <td>-31.020557</td>\n",
       "    </tr>\n",
       "  </tbody>\n",
       "</table>\n",
       "<p>1500 rows × 9 columns</p>\n",
       "</div>"
      ],
      "text/plain": [
       "      RR  RL  RG  LR  GR  steer  velocity  velocity_x  velocity_y\n",
       "0      1   0   0   0   0    0.0       0.0    0.000000   -0.000000\n",
       "1      1   0   0   0   0    0.0       0.0    0.000000   -0.000000\n",
       "2      1   0   0   0   0    0.0       0.0    0.000000   -0.000000\n",
       "3      1   0   0   0   0    0.0       0.0    0.000000   -0.000000\n",
       "4      1   0   0   0   0    0.0       0.0    0.000000   -0.000000\n",
       "...   ..  ..  ..  ..  ..    ...       ...         ...         ...\n",
       "1495   0   0   0   1   0    0.0      40.0   25.253219  -31.020557\n",
       "1496   0   0   0   1   0    0.0      40.0   25.253219  -31.020557\n",
       "1497   0   0   0   1   0    0.0      40.0   25.253219  -31.020557\n",
       "1498   0   0   0   1   0    0.0      40.0   25.253219  -31.020557\n",
       "1499   0   0   0   1   0    0.0      40.0   25.253219  -31.020557\n",
       "\n",
       "[1500 rows x 9 columns]"
      ]
     },
     "execution_count": 217,
     "metadata": {},
     "output_type": "execute_result"
    }
   ],
   "source": [
    "X.head(1500)"
   ]
  },
  {
   "cell_type": "code",
   "execution_count": 218,
   "metadata": {},
   "outputs": [],
   "source": [
    "y = input_keys"
   ]
  },
  {
   "cell_type": "code",
   "execution_count": 219,
   "metadata": {},
   "outputs": [
    {
     "data": {
      "text/html": [
       "<div>\n",
       "<style scoped>\n",
       "    .dataframe tbody tr th:only-of-type {\n",
       "        vertical-align: middle;\n",
       "    }\n",
       "\n",
       "    .dataframe tbody tr th {\n",
       "        vertical-align: top;\n",
       "    }\n",
       "\n",
       "    .dataframe thead th {\n",
       "        text-align: right;\n",
       "    }\n",
       "</style>\n",
       "<table border=\"1\" class=\"dataframe\">\n",
       "  <thead>\n",
       "    <tr style=\"text-align: right;\">\n",
       "      <th></th>\n",
       "      <th>W</th>\n",
       "      <th>A</th>\n",
       "      <th>D</th>\n",
       "    </tr>\n",
       "  </thead>\n",
       "  <tbody>\n",
       "    <tr>\n",
       "      <td>0</td>\n",
       "      <td>0.0</td>\n",
       "      <td>0.0</td>\n",
       "      <td>0.0</td>\n",
       "    </tr>\n",
       "    <tr>\n",
       "      <td>1</td>\n",
       "      <td>0.0</td>\n",
       "      <td>0.0</td>\n",
       "      <td>0.0</td>\n",
       "    </tr>\n",
       "    <tr>\n",
       "      <td>2</td>\n",
       "      <td>0.0</td>\n",
       "      <td>0.0</td>\n",
       "      <td>0.0</td>\n",
       "    </tr>\n",
       "    <tr>\n",
       "      <td>3</td>\n",
       "      <td>0.0</td>\n",
       "      <td>0.0</td>\n",
       "      <td>0.0</td>\n",
       "    </tr>\n",
       "    <tr>\n",
       "      <td>4</td>\n",
       "      <td>0.0</td>\n",
       "      <td>0.0</td>\n",
       "      <td>0.0</td>\n",
       "    </tr>\n",
       "  </tbody>\n",
       "</table>\n",
       "</div>"
      ],
      "text/plain": [
       "     W    A    D\n",
       "0  0.0  0.0  0.0\n",
       "1  0.0  0.0  0.0\n",
       "2  0.0  0.0  0.0\n",
       "3  0.0  0.0  0.0\n",
       "4  0.0  0.0  0.0"
      ]
     },
     "execution_count": 219,
     "metadata": {},
     "output_type": "execute_result"
    }
   ],
   "source": [
    "y.head()"
   ]
  },
  {
   "cell_type": "code",
   "execution_count": 220,
   "metadata": {},
   "outputs": [
    {
     "name": "stdout",
     "output_type": "stream",
     "text": [
      "(9012, 9) (9012, 3)\n"
     ]
    }
   ],
   "source": [
    "print(X.shape, y.shape)"
   ]
  },
  {
   "cell_type": "code",
   "execution_count": 51,
   "metadata": {},
   "outputs": [],
   "source": [
    "# input features:\n",
    "# X: road-road(1), road-line(2), road-grass(3), line-road(4), grass-road, steer, velocity(0-40), velocity_x, velocity_y\n",
    "# Y: left-steer, gas-forward, right-steer\n",
    "\n",
    "# output:\n",
    "# gas-forward(119), left-steer(97), right-steer(100)"
   ]
  },
  {
   "cell_type": "code",
   "execution_count": null,
   "metadata": {},
   "outputs": [],
   "source": []
  },
  {
   "cell_type": "code",
   "execution_count": null,
   "metadata": {},
   "outputs": [],
   "source": []
  },
  {
   "cell_type": "code",
   "execution_count": null,
   "metadata": {},
   "outputs": [],
   "source": []
  },
  {
   "cell_type": "code",
   "execution_count": null,
   "metadata": {},
   "outputs": [],
   "source": []
  },
  {
   "cell_type": "code",
   "execution_count": null,
   "metadata": {},
   "outputs": [],
   "source": []
  },
  {
   "cell_type": "code",
   "execution_count": null,
   "metadata": {},
   "outputs": [],
   "source": []
  },
  {
   "cell_type": "code",
   "execution_count": null,
   "metadata": {},
   "outputs": [],
   "source": []
  },
  {
   "cell_type": "code",
   "execution_count": null,
   "metadata": {},
   "outputs": [],
   "source": []
  },
  {
   "cell_type": "code",
   "execution_count": 221,
   "metadata": {},
   "outputs": [
    {
     "name": "stdout",
     "output_type": "stream",
     "text": [
      "Model: \"sequential_3\"\n",
      "_________________________________________________________________\n",
      "Layer (type)                 Output Shape              Param #   \n",
      "=================================================================\n",
      "dense_9 (Dense)              (None, 6)                 60        \n",
      "_________________________________________________________________\n",
      "dense_10 (Dense)             (None, 24)                168       \n",
      "_________________________________________________________________\n",
      "dense_11 (Dense)             (None, 12)                300       \n",
      "_________________________________________________________________\n",
      "dense_12 (Dense)             (None, 3)                 39        \n",
      "=================================================================\n",
      "Total params: 567\n",
      "Trainable params: 567\n",
      "Non-trainable params: 0\n",
      "_________________________________________________________________\n"
     ]
    }
   ],
   "source": [
    "import keras\n",
    "from keras.models import Sequential \n",
    "from keras.layers import Conv2D, MaxPooling2D, Dense, Flatten, Dropout\n",
    "from keras.optimizers import Adam \n",
    "\n",
    "# define model\n",
    "in_shape = (9,) # number of features\n",
    "model = Sequential()\n",
    "model.add(Dense(6, input_shape=in_shape, activation=\"relu\"))\n",
    "model.add(Dense(24, activation='relu'))\n",
    "model.add(Dense(12, activation='relu')) \n",
    "model.add(Dense(3, activation='sigmoid'))\n",
    "\n",
    "model.summary()\n",
    "\n",
    "model.compile(\n",
    "    loss='categorical_crossentropy',\n",
    "    optimizer = 'adam',\n",
    "    metrics=['acc']\n",
    ")"
   ]
  },
  {
   "cell_type": "code",
   "execution_count": 222,
   "metadata": {},
   "outputs": [
    {
     "name": "stdout",
     "output_type": "stream",
     "text": [
      "Train on 7209 samples, validate on 1803 samples\n",
      "Epoch 1/50\n",
      "7209/7209 [==============================] - 1s 97us/step - loss: 0.7339 - acc: 0.9979 - val_loss: 0.7066 - val_acc: 1.0000\n",
      "Epoch 2/50\n",
      "7209/7209 [==============================] - 1s 86us/step - loss: 0.6588 - acc: 0.9994 - val_loss: 0.6512 - val_acc: 0.9917\n",
      "Epoch 3/50\n",
      "7209/7209 [==============================] - 1s 76us/step - loss: 0.5571 - acc: 0.9893 - val_loss: 0.4875 - val_acc: 0.9845\n",
      "Epoch 4/50\n",
      "7209/7209 [==============================] - 1s 76us/step - loss: 0.4161 - acc: 0.9610 - val_loss: 0.3801 - val_acc: 0.9473\n",
      "Epoch 5/50\n",
      "7209/7209 [==============================] - 1s 76us/step - loss: 0.3442 - acc: 0.9490 - val_loss: 0.3366 - val_acc: 0.9301\n",
      "Epoch 6/50\n",
      "7209/7209 [==============================] - 1s 76us/step - loss: 0.3138 - acc: 0.9431 - val_loss: 0.3165 - val_acc: 0.9362\n",
      "Epoch 7/50\n",
      "7209/7209 [==============================] - 1s 81us/step - loss: 0.3030 - acc: 0.9329 - val_loss: 0.3098 - val_acc: 0.9113\n",
      "Epoch 8/50\n",
      "7209/7209 [==============================] - 1s 80us/step - loss: 0.2999 - acc: 0.9302 - val_loss: 0.3081 - val_acc: 0.9285\n",
      "Epoch 9/50\n",
      "7209/7209 [==============================] - 1s 80us/step - loss: 0.2985 - acc: 0.9408 - val_loss: 0.3075 - val_acc: 0.9362\n",
      "Epoch 10/50\n",
      "7209/7209 [==============================] - 1s 77us/step - loss: 0.2979 - acc: 0.9463 - val_loss: 0.3072 - val_acc: 0.9506\n",
      "Epoch 11/50\n",
      "7209/7209 [==============================] - 1s 83us/step - loss: 0.2976 - acc: 0.9512 - val_loss: 0.3070 - val_acc: 0.9523\n",
      "Epoch 12/50\n",
      "7209/7209 [==============================] - 1s 82us/step - loss: 0.2974 - acc: 0.9520 - val_loss: 0.3069 - val_acc: 0.9562\n",
      "Epoch 13/50\n",
      "7209/7209 [==============================] - 1s 81us/step - loss: 0.2973 - acc: 0.9527 - val_loss: 0.3069 - val_acc: 0.9551\n",
      "Epoch 14/50\n",
      "7209/7209 [==============================] - 1s 79us/step - loss: 0.2972 - acc: 0.9495 - val_loss: 0.3069 - val_acc: 0.9645\n",
      "Epoch 15/50\n",
      "7209/7209 [==============================] - 1s 77us/step - loss: 0.2971 - acc: 0.9487 - val_loss: 0.3068 - val_acc: 0.9578\n",
      "Epoch 16/50\n",
      "7209/7209 [==============================] - 1s 76us/step - loss: 0.2971 - acc: 0.9474 - val_loss: 0.3068 - val_acc: 0.9551\n",
      "Epoch 17/50\n",
      "7209/7209 [==============================] - 1s 76us/step - loss: 0.2970 - acc: 0.9465 - val_loss: 0.3068 - val_acc: 0.9456\n",
      "Epoch 18/50\n",
      "7209/7209 [==============================] - 1s 81us/step - loss: 0.2970 - acc: 0.9453 - val_loss: 0.3068 - val_acc: 0.9551\n",
      "Epoch 19/50\n",
      "7209/7209 [==============================] - 1s 79us/step - loss: 0.2970 - acc: 0.9437 - val_loss: 0.3068 - val_acc: 0.9495\n",
      "Epoch 20/50\n",
      "7209/7209 [==============================] - 1s 77us/step - loss: 0.2970 - acc: 0.9426 - val_loss: 0.3068 - val_acc: 0.9545\n",
      "Epoch 21/50\n",
      "7209/7209 [==============================] - 1s 78us/step - loss: 0.2970 - acc: 0.9415 - val_loss: 0.3068 - val_acc: 0.9534\n",
      "Epoch 22/50\n",
      "7209/7209 [==============================] - 1s 80us/step - loss: 0.2969 - acc: 0.9431 - val_loss: 0.3068 - val_acc: 0.9451\n",
      "Epoch 23/50\n",
      "7209/7209 [==============================] - 1s 78us/step - loss: 0.2969 - acc: 0.9417 - val_loss: 0.3068 - val_acc: 0.9484\n",
      "Epoch 24/50\n",
      "7209/7209 [==============================] - 1s 78us/step - loss: 0.2969 - acc: 0.9413 - val_loss: 0.3068 - val_acc: 0.9479\n",
      "Epoch 25/50\n",
      "7209/7209 [==============================] - 1s 76us/step - loss: 0.2969 - acc: 0.9391 - val_loss: 0.3068 - val_acc: 0.9484\n",
      "Epoch 26/50\n",
      "7209/7209 [==============================] - 1s 77us/step - loss: 0.2969 - acc: 0.9410 - val_loss: 0.3068 - val_acc: 0.9495\n",
      "Epoch 27/50\n",
      "7209/7209 [==============================] - 1s 77us/step - loss: 0.2969 - acc: 0.9408 - val_loss: 0.3068 - val_acc: 0.9434\n",
      "Epoch 28/50\n",
      "7209/7209 [==============================] - 1s 76us/step - loss: 0.2969 - acc: 0.9391 - val_loss: 0.3068 - val_acc: 0.9506\n",
      "Epoch 29/50\n",
      "7209/7209 [==============================] - 1s 76us/step - loss: 0.2969 - acc: 0.9402 - val_loss: 0.3068 - val_acc: 0.9501\n",
      "Epoch 30/50\n",
      "7209/7209 [==============================] - 1s 78us/step - loss: 0.2969 - acc: 0.9377 - val_loss: 0.3068 - val_acc: 0.9440\n",
      "Epoch 31/50\n",
      "7209/7209 [==============================] - 1s 81us/step - loss: 0.2969 - acc: 0.9363 - val_loss: 0.3068 - val_acc: 0.9495\n",
      "Epoch 32/50\n",
      "7209/7209 [==============================] - 1s 78us/step - loss: 0.2969 - acc: 0.9402 - val_loss: 0.3068 - val_acc: 0.9340\n",
      "Epoch 33/50\n",
      "7209/7209 [==============================] - 1s 80us/step - loss: 0.2969 - acc: 0.9391 - val_loss: 0.3068 - val_acc: 0.9501\n",
      "Epoch 34/50\n",
      "7209/7209 [==============================] - 1s 83us/step - loss: 0.2969 - acc: 0.9381 - val_loss: 0.3068 - val_acc: 0.9468\n",
      "Epoch 35/50\n",
      "7209/7209 [==============================] - 1s 77us/step - loss: 0.2969 - acc: 0.9361 - val_loss: 0.3068 - val_acc: 0.9479\n",
      "Epoch 36/50\n",
      "7209/7209 [==============================] - 1s 77us/step - loss: 0.2969 - acc: 0.9406 - val_loss: 0.3068 - val_acc: 0.9529\n",
      "Epoch 37/50\n",
      "7209/7209 [==============================] - 1s 79us/step - loss: 0.2969 - acc: 0.9381 - val_loss: 0.3068 - val_acc: 0.9517\n",
      "Epoch 38/50\n",
      "7209/7209 [==============================] - 1s 75us/step - loss: 0.2969 - acc: 0.9377 - val_loss: 0.3068 - val_acc: 0.9390\n",
      "Epoch 39/50\n",
      "7209/7209 [==============================] - 1s 77us/step - loss: 0.2969 - acc: 0.9387 - val_loss: 0.3068 - val_acc: 0.9456\n",
      "Epoch 40/50\n",
      "7209/7209 [==============================] - 1s 77us/step - loss: 0.2969 - acc: 0.9387 - val_loss: 0.3068 - val_acc: 0.9340\n",
      "Epoch 41/50\n",
      "7209/7209 [==============================] - 1s 76us/step - loss: 0.2969 - acc: 0.9381 - val_loss: 0.3068 - val_acc: 0.9440\n",
      "Epoch 42/50\n",
      "7209/7209 [==============================] - 1s 76us/step - loss: 0.2969 - acc: 0.9380 - val_loss: 0.3068 - val_acc: 0.9312\n",
      "Epoch 43/50\n",
      "7209/7209 [==============================] - 1s 76us/step - loss: 0.2969 - acc: 0.9381 - val_loss: 0.3068 - val_acc: 0.9379\n",
      "Epoch 44/50\n",
      "7209/7209 [==============================] - 1s 80us/step - loss: 0.2969 - acc: 0.9374 - val_loss: 0.3068 - val_acc: 0.9373\n",
      "Epoch 45/50\n",
      "7209/7209 [==============================] - 1s 78us/step - loss: 0.2969 - acc: 0.9358 - val_loss: 0.3068 - val_acc: 0.9334\n",
      "Epoch 46/50\n",
      "7209/7209 [==============================] - 1s 78us/step - loss: 0.2969 - acc: 0.9361 - val_loss: 0.3068 - val_acc: 0.9351\n",
      "Epoch 47/50\n",
      "7209/7209 [==============================] - 1s 78us/step - loss: 0.2969 - acc: 0.9385 - val_loss: 0.3068 - val_acc: 0.9401\n",
      "Epoch 48/50\n",
      "7209/7209 [==============================] - 1s 82us/step - loss: 0.3140 - acc: 0.9333 - val_loss: 0.3073 - val_acc: 0.9706\n",
      "Epoch 49/50\n",
      "7209/7209 [==============================] - 1s 78us/step - loss: 0.2969 - acc: 0.9846 - val_loss: 0.3068 - val_acc: 0.9939\n",
      "Epoch 50/50\n",
      "7209/7209 [==============================] - 1s 77us/step - loss: 0.2969 - acc: 0.9838 - val_loss: 0.3068 - val_acc: 0.9922\n"
     ]
    }
   ],
   "source": [
    "hist = model.fit(X, y, epochs=50, batch_size=16, validation_split=0.20)"
   ]
  },
  {
   "cell_type": "code",
   "execution_count": 223,
   "metadata": {},
   "outputs": [
    {
     "data": {
      "text/plain": [
       "[<matplotlib.lines.Line2D at 0x132c6b690>]"
      ]
     },
     "execution_count": 223,
     "metadata": {},
     "output_type": "execute_result"
    },
    {
     "data": {
      "image/png": "[encoded data removed]",
      "text/plain": [
       "<Figure size 432x288 with 1 Axes>"
      ]
     },
     "metadata": {
      "needs_background": "light"
     },
     "output_type": "display_data"
    }
   ],
   "source": [
    "plt.plot(hist.history['loss'])"
   ]
  },
  {
   "cell_type": "code",
   "execution_count": 229,
   "metadata": {},
   "outputs": [
    {
     "data": {
      "text/html": [
       "<div>\n",
       "<style scoped>\n",
       "    .dataframe tbody tr th:only-of-type {\n",
       "        vertical-align: middle;\n",
       "    }\n",
       "\n",
       "    .dataframe tbody tr th {\n",
       "        vertical-align: top;\n",
       "    }\n",
       "\n",
       "    .dataframe thead th {\n",
       "        text-align: right;\n",
       "    }\n",
       "</style>\n",
       "<table border=\"1\" class=\"dataframe\">\n",
       "  <thead>\n",
       "    <tr style=\"text-align: right;\">\n",
       "      <th></th>\n",
       "      <th>RR</th>\n",
       "      <th>RL</th>\n",
       "      <th>RG</th>\n",
       "      <th>LR</th>\n",
       "      <th>GR</th>\n",
       "      <th>steer</th>\n",
       "      <th>velocity</th>\n",
       "      <th>velocity_x</th>\n",
       "      <th>velocity_y</th>\n",
       "    </tr>\n",
       "  </thead>\n",
       "  <tbody>\n",
       "    <tr>\n",
       "      <td>1360</td>\n",
       "      <td>0</td>\n",
       "      <td>1</td>\n",
       "      <td>0</td>\n",
       "      <td>0</td>\n",
       "      <td>0</td>\n",
       "      <td>0.0</td>\n",
       "      <td>40.0</td>\n",
       "      <td>16.733038</td>\n",
       "      <td>-36.331879</td>\n",
       "    </tr>\n",
       "    <tr>\n",
       "      <td>1361</td>\n",
       "      <td>0</td>\n",
       "      <td>1</td>\n",
       "      <td>0</td>\n",
       "      <td>0</td>\n",
       "      <td>0</td>\n",
       "      <td>0.0</td>\n",
       "      <td>40.0</td>\n",
       "      <td>16.733038</td>\n",
       "      <td>-36.331879</td>\n",
       "    </tr>\n",
       "    <tr>\n",
       "      <td>1362</td>\n",
       "      <td>0</td>\n",
       "      <td>1</td>\n",
       "      <td>0</td>\n",
       "      <td>0</td>\n",
       "      <td>0</td>\n",
       "      <td>0.0</td>\n",
       "      <td>40.0</td>\n",
       "      <td>16.733038</td>\n",
       "      <td>-36.331879</td>\n",
       "    </tr>\n",
       "    <tr>\n",
       "      <td>1363</td>\n",
       "      <td>0</td>\n",
       "      <td>1</td>\n",
       "      <td>0</td>\n",
       "      <td>0</td>\n",
       "      <td>0</td>\n",
       "      <td>0.0</td>\n",
       "      <td>40.0</td>\n",
       "      <td>16.733038</td>\n",
       "      <td>-36.331879</td>\n",
       "    </tr>\n",
       "    <tr>\n",
       "      <td>1364</td>\n",
       "      <td>0</td>\n",
       "      <td>1</td>\n",
       "      <td>0</td>\n",
       "      <td>0</td>\n",
       "      <td>0</td>\n",
       "      <td>0.0</td>\n",
       "      <td>40.0</td>\n",
       "      <td>16.733038</td>\n",
       "      <td>-36.331879</td>\n",
       "    </tr>\n",
       "    <tr>\n",
       "      <td>1365</td>\n",
       "      <td>0</td>\n",
       "      <td>1</td>\n",
       "      <td>0</td>\n",
       "      <td>0</td>\n",
       "      <td>0</td>\n",
       "      <td>0.0</td>\n",
       "      <td>40.0</td>\n",
       "      <td>16.733038</td>\n",
       "      <td>-36.331879</td>\n",
       "    </tr>\n",
       "    <tr>\n",
       "      <td>1366</td>\n",
       "      <td>0</td>\n",
       "      <td>1</td>\n",
       "      <td>0</td>\n",
       "      <td>0</td>\n",
       "      <td>0</td>\n",
       "      <td>0.0</td>\n",
       "      <td>40.0</td>\n",
       "      <td>16.733038</td>\n",
       "      <td>-36.331879</td>\n",
       "    </tr>\n",
       "    <tr>\n",
       "      <td>1367</td>\n",
       "      <td>0</td>\n",
       "      <td>1</td>\n",
       "      <td>0</td>\n",
       "      <td>0</td>\n",
       "      <td>0</td>\n",
       "      <td>0.0</td>\n",
       "      <td>40.0</td>\n",
       "      <td>16.733038</td>\n",
       "      <td>-36.331879</td>\n",
       "    </tr>\n",
       "    <tr>\n",
       "      <td>1368</td>\n",
       "      <td>0</td>\n",
       "      <td>1</td>\n",
       "      <td>0</td>\n",
       "      <td>0</td>\n",
       "      <td>0</td>\n",
       "      <td>0.0</td>\n",
       "      <td>40.0</td>\n",
       "      <td>16.733038</td>\n",
       "      <td>-36.331879</td>\n",
       "    </tr>\n",
       "    <tr>\n",
       "      <td>1369</td>\n",
       "      <td>0</td>\n",
       "      <td>1</td>\n",
       "      <td>0</td>\n",
       "      <td>0</td>\n",
       "      <td>0</td>\n",
       "      <td>0.0</td>\n",
       "      <td>40.0</td>\n",
       "      <td>16.733038</td>\n",
       "      <td>-36.331879</td>\n",
       "    </tr>\n",
       "  </tbody>\n",
       "</table>\n",
       "</div>"
      ],
      "text/plain": [
       "      RR  RL  RG  LR  GR  steer  velocity  velocity_x  velocity_y\n",
       "1360   0   1   0   0   0    0.0      40.0   16.733038  -36.331879\n",
       "1361   0   1   0   0   0    0.0      40.0   16.733038  -36.331879\n",
       "1362   0   1   0   0   0    0.0      40.0   16.733038  -36.331879\n",
       "1363   0   1   0   0   0    0.0      40.0   16.733038  -36.331879\n",
       "1364   0   1   0   0   0    0.0      40.0   16.733038  -36.331879\n",
       "1365   0   1   0   0   0    0.0      40.0   16.733038  -36.331879\n",
       "1366   0   1   0   0   0    0.0      40.0   16.733038  -36.331879\n",
       "1367   0   1   0   0   0    0.0      40.0   16.733038  -36.331879\n",
       "1368   0   1   0   0   0    0.0      40.0   16.733038  -36.331879\n",
       "1369   0   1   0   0   0    0.0      40.0   16.733038  -36.331879"
      ]
     },
     "execution_count": 229,
     "metadata": {},
     "output_type": "execute_result"
    }
   ],
   "source": [
    "X[1360:1370]"
   ]
  },
  {
   "cell_type": "code",
   "execution_count": 230,
   "metadata": {},
   "outputs": [],
   "source": [
    "preds=model.predict(X)"
   ]
  },
  {
   "cell_type": "code",
   "execution_count": 257,
   "metadata": {},
   "outputs": [],
   "source": [
    "preds_ = np.round(preds)"
   ]
  },
  {
   "cell_type": "code",
   "execution_count": 259,
   "metadata": {},
   "outputs": [],
   "source": [
    "comparison = np.equal(y.values, preds_)"
   ]
  },
  {
   "cell_type": "code",
   "execution_count": 267,
   "metadata": {},
   "outputs": [],
   "source": [
    "com_cnt = np.all(comparison, axis=1)"
   ]
  },
  {
   "cell_type": "code",
   "execution_count": 271,
   "metadata": {},
   "outputs": [],
   "source": [
    "un, cnts = np.unique(com_cnt, return_counts=True)"
   ]
  },
  {
   "cell_type": "code",
   "execution_count": 274,
   "metadata": {},
   "outputs": [
    {
     "data": {
      "text/plain": [
       "array([  26, 8986])"
      ]
     },
     "execution_count": 274,
     "metadata": {},
     "output_type": "execute_result"
    }
   ],
   "source": [
    "cnts"
   ]
  },
  {
   "cell_type": "code",
   "execution_count": 249,
   "metadata": {},
   "outputs": [
    {
     "name": "stdout",
     "output_type": "stream",
     "text": [
      "[[0.997 0.    0.   ]\n",
      " [0.997 0.    0.   ]\n",
      " [0.997 0.    0.   ]\n",
      " ...\n",
      " [1.    0.    0.   ]\n",
      " [1.    0.    0.   ]\n",
      " [1.    0.    0.   ]]\n"
     ]
    }
   ],
   "source": [
    "with np.printoptions(precision=3, suppress=True):\n",
    "    print(preds[:2600])"
   ]
  },
  {
   "cell_type": "code",
   "execution_count": 227,
   "metadata": {},
   "outputs": [],
   "source": [
    "# RR   RL   RG   LR   GR   velocity\n",
    "test = model.predict(np.array([[0,0,0,0,0,0,40,16.733038,-36.331879]]))\n",
    "# test2 = model.predict(np.array([[0,0,0,0,1,0.8]]))\n",
    "# test3 = model.predict(np.array([[0,0,1,0,0,0.7]]))\n",
    "# test4 = model.predict(np.array([[0,1,0,0,0,1]]))\n",
    "# test5 = model.predict(np.array([[0,0,0,1,0,1]]))"
   ]
  },
  {
   "cell_type": "code",
   "execution_count": 228,
   "metadata": {},
   "outputs": [
    {
     "name": "stdout",
     "output_type": "stream",
     "text": [
      "[[1. 0. 0.]]\n"
     ]
    }
   ],
   "source": [
    "with np.printoptions(precision=3, suppress=True):\n",
    "    print(test)"
   ]
  },
  {
   "cell_type": "code",
   "execution_count": 332,
   "metadata": {},
   "outputs": [
    {
     "name": "stdout",
     "output_type": "stream",
     "text": [
      "[[0.784 0.102 0.034]]\n",
      "[[0.739 0.039 0.037]]\n",
      "[[0.958 0.244 0.001]]\n",
      "[[0.916 0.245 0.003]]\n",
      "[[0.784 0.016 0.021]]\n"
     ]
    }
   ],
   "source": [
    "# W   A   D\n",
    "with np.printoptions(precision=3, suppress=True):\n",
    "    print(test)\n",
    "    print(test2)\n",
    "    print(test3)\n",
    "    print(test4)\n",
    "    print(test5)"
   ]
  },
  {
   "cell_type": "code",
   "execution_count": 256,
   "metadata": {},
   "outputs": [],
   "source": [
    "t = np.array(X.values[0])"
   ]
  },
  {
   "cell_type": "code",
   "execution_count": null,
   "metadata": {},
   "outputs": [],
   "source": []
  }
 ],
 "metadata": {
  "kernelspec": {
   "display_name": "Python 3",
   "language": "python",
   "name": "python3"
  },
  "language_info": {
   "codemirror_mode": {
    "name": "ipython",
    "version": 3
   },
   "file_extension": ".py",
   "mimetype": "text/x-python",
   "name": "python",
   "nbconvert_exporter": "python",
   "pygments_lexer": "ipython3",
   "version": "3.7.4"
  }
 },
 "nbformat": 4,
 "nbformat_minor": 4
}
